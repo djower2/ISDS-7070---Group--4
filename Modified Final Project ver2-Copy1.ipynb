{
 "cells": [
  {
   "cell_type": "code",
   "execution_count": null,
   "id": "29d1c8cb",
   "metadata": {},
   "outputs": [],
   "source": [
    "import pandas as pd\n",
    "import numpy as np\n",
    "import matplotlib.pyplot as plt\n",
    "import seaborn as sns\n",
    "from sklearn import tree\n",
    "from sklearn.metrics import accuracy_score\n",
    "from sklearn.model_selection import train_test_split\n",
    "from sklearn.ensemble import RandomForestRegressor\n",
    "from sklearn.metrics import mean_squared_error, r2_score\n",
    "from sklearn import metrics\n",
    "from sklearn.model_selection import train_test_split\n",
    "from sklearn.tree import DecisionTreeClassifier\n",
    "from sklearn.metrics import accuracy_score, confusion_matrix, classification_report\n",
    "import seaborn as sb\n",
    "from sklearn.neighbors import KNeighborsClassifier"
   ]
  },
  {
   "cell_type": "code",
   "execution_count": null,
   "id": "743ac127",
   "metadata": {},
   "outputs": [],
   "source": [
    "url= 'fake_job_postings.csv'"
   ]
  },
  {
   "cell_type": "code",
   "execution_count": null,
   "id": "e72a87e7",
   "metadata": {},
   "outputs": [],
   "source": [
    "df_job=pd.read_csv(url)"
   ]
  },
  {
   "cell_type": "code",
   "execution_count": null,
   "id": "d9ebe538",
   "metadata": {},
   "outputs": [],
   "source": [
    "df_job.head(50)"
   ]
  },
  {
   "cell_type": "code",
   "execution_count": null,
   "id": "144ea8cc",
   "metadata": {},
   "outputs": [],
   "source": [
    "#Shape of data\n",
    "df_job.shape"
   ]
  },
  {
   "cell_type": "code",
   "execution_count": null,
   "id": "1b0c46be",
   "metadata": {},
   "outputs": [],
   "source": [
    "#Columns\n",
    "df_job.columns"
   ]
  },
  {
   "cell_type": "code",
   "execution_count": null,
   "id": "bcc4c41d",
   "metadata": {},
   "outputs": [],
   "source": [
    "#Check for null values\n",
    "df_job.isna() .apply(pd.value_counts)"
   ]
  },
  {
   "cell_type": "code",
   "execution_count": null,
   "id": "5826c58c",
   "metadata": {},
   "outputs": [],
   "source": [
    "#Check for number of null values\n",
    "df_job.isnull() .sum()"
   ]
  },
  {
   "cell_type": "code",
   "execution_count": null,
   "id": "356213f2",
   "metadata": {},
   "outputs": [],
   "source": [
    "#Drop duplicate rows from the data\n",
    "df_job.drop_duplicates(inplace=True)\n",
    "df_job.duplicated().sum()"
   ]
  },
  {
   "cell_type": "code",
   "execution_count": null,
   "id": "59107af9",
   "metadata": {},
   "outputs": [],
   "source": [
    "#Replace ? with NaN and fix Dtypes (fix salary)\n",
    "df_job.replace(\"?\", np.nan, inplace = True)\n",
    "#df_job[[\"salary_range\"]] = df_job[[\"salary_range\"]].astype(float, copy=True)\n",
    "df_job.head(50)"
   ]
  },
  {
   "cell_type": "code",
   "execution_count": null,
   "id": "fc5bdfa0",
   "metadata": {},
   "outputs": [],
   "source": [
    "#Remove and Rename Unecessary Columns\n",
    "df_job.rename(columns={'fraudulent': 'fake_posting'}, inplace=True)\n",
    "df_job.columns"
   ]
  },
  {
   "cell_type": "code",
   "execution_count": null,
   "id": "c46899e1",
   "metadata": {},
   "outputs": [],
   "source": [
    "df_job.drop('department', axis=1, inplace= True)"
   ]
  },
  {
   "cell_type": "code",
   "execution_count": null,
   "id": "cad0bdfe",
   "metadata": {},
   "outputs": [],
   "source": [
    "df_job.info()"
   ]
  },
  {
   "cell_type": "code",
   "execution_count": null,
   "id": "c6cd3268",
   "metadata": {},
   "outputs": [],
   "source": [
    "import plotly.express as px"
   ]
  },
  {
   "cell_type": "code",
   "execution_count": null,
   "id": "7a8568c8",
   "metadata": {},
   "outputs": [],
   "source": [
    "#Count of Fraudulent Entries\n",
    "count_fraudulent = df_job.groupby('fake_posting').count()\n",
    "count_fraudulent.reset_index(inplace=True)\n",
    "\n",
    "# Plot counts\n",
    "fig = px.bar(count_fraudulent, x='fake_posting', y='job_id', \n",
    "             labels={'job_id': 'count'})\n",
    "fig.show()"
   ]
  },
  {
   "cell_type": "code",
   "execution_count": null,
   "id": "fa265062",
   "metadata": {},
   "outputs": [],
   "source": [
    "# Required Experience for Job\n",
    "experience = dict(df_job.required_experience.value_counts())\n",
    "plt.figure(figsize=(10,5))\n",
    "plt.bar(experience.keys(), experience.values())\n",
    "plt.title('No. of Jobs with Experience')\n",
    "plt.xlabel('Experience', size=10)\n",
    "plt.ylabel('No. of jobs', size=10)\n",
    "plt.xticks(rotation=35)\n",
    "plt.show()"
   ]
  },
  {
   "cell_type": "code",
   "execution_count": null,
   "id": "ae0366ad",
   "metadata": {},
   "outputs": [],
   "source": [
    "# Most Frequent Jobs Listed\n",
    "print(df_job.title.value_counts()[:10])"
   ]
  },
  {
   "cell_type": "code",
   "execution_count": null,
   "id": "e006da80",
   "metadata": {},
   "outputs": [],
   "source": [
    "#The Titles and Count of Fraudulent Jobs\n",
    "print(df_job[df_job.fake_posting==1].title.value_counts()[:25])"
   ]
  },
  {
   "cell_type": "code",
   "execution_count": null,
   "id": "5c0a972d",
   "metadata": {},
   "outputs": [],
   "source": [
    "#Fake Jobs by Employment Type\n",
    "fake_jobs_by_type = df_job.groupby('employment_type')['fake_posting'].sum().reset_index()\n",
    "plt.figure(figsize=(12, 6))\n",
    "sns.barplot(x='employment_type', y='fake_posting', data=fake_jobs_by_type)\n",
    "plt.xlabel('Employment Type')\n",
    "plt.ylabel('Number of Fake Jobs')\n",
    "plt.title('Number of Fake Jobs by Employment Type')\n",
    "plt.xticks(rotation=90)\n",
    "plt.show()"
   ]
  },
  {
   "cell_type": "code",
   "execution_count": null,
   "id": "40665821",
   "metadata": {},
   "outputs": [],
   "source": [
    "#Plotting Fake postings of USA vs other countries\n",
    "\n",
    "us_fake_postings = df_job[(df_job['location'].str.contains(\"US,\", na=False)) & (df_job['fake_posting'] == 1)]\n",
    "\n",
    "non_us_fake_postings = df_job[(~df_job['location'].str.contains(\"US,\", na=False)) & (df_job['fake_posting'] == 1)]\n",
    "\n",
    "us_fake_count = us_fake_postings.shape[0]\n",
    "non_us_fake_count = non_us_fake_postings.shape[0]\n",
    "\n",
    "\n",
    "plt.figure(figsize=(8, 6))\n",
    "plt.bar(['US', 'Non-US'], [us_fake_count, non_us_fake_count], color=['b', 'r'])\n",
    "plt.xlabel('Location Type')\n",
    "plt.ylabel('Number of Fake Postings')\n",
    "plt.title('Number of Fake Postings for US and Non-US Locations')\n",
    "plt.show()"
   ]
  },
  {
   "cell_type": "code",
   "execution_count": null,
   "id": "d79372af",
   "metadata": {},
   "outputs": [],
   "source": []
  },
  {
   "cell_type": "code",
   "execution_count": null,
   "id": "95261ad5",
   "metadata": {},
   "outputs": [],
   "source": [
    "# Import test and train datasets\n",
    "df_train = pd.read_csv('fake_job_postings.csv')\n",
    "df_test = pd.read_csv('fake_job_postings.csv')"
   ]
  },
  {
   "cell_type": "code",
   "execution_count": null,
   "id": "9b5e0a93",
   "metadata": {},
   "outputs": [],
   "source": [
    "from sklearn.model_selection import train_test_split\n",
    "from sklearn import datasets, linear_model\n",
    "from sklearn.metrics import mean_squared_error, r2_score, accuracy_score"
   ]
  },
  {
   "cell_type": "code",
   "execution_count": null,
   "id": "4551501f",
   "metadata": {},
   "outputs": [],
   "source": [
    "Y = df_job.fake_posting"
   ]
  },
  {
   "cell_type": "code",
   "execution_count": null,
   "id": "a4159cf3",
   "metadata": {},
   "outputs": [],
   "source": [
    "#Note- initial variables included because these are numeric data with no missing values\n",
    "X = df_job[['telecommuting','has_company_logo','has_questions']]\n",
    "\n",
    "X_train, X_test, Y_train, Y_test = train_test_split(X, Y, test_size=0.1, random_state=0)"
   ]
  },
  {
   "cell_type": "code",
   "execution_count": null,
   "id": "5e975b16",
   "metadata": {},
   "outputs": [],
   "source": [
    "# Create linear regression object\n",
    "regr = linear_model.LinearRegression()"
   ]
  },
  {
   "cell_type": "code",
   "execution_count": null,
   "id": "d7922790",
   "metadata": {},
   "outputs": [],
   "source": [
    "# Train the model using the training sets\n",
    "regr.fit(X_train, Y_train)"
   ]
  },
  {
   "cell_type": "code",
   "execution_count": null,
   "id": "32dd9637",
   "metadata": {},
   "outputs": [],
   "source": [
    "#Predicting using Testing Set\n",
    "Y_pred = regr.predict(X_test)"
   ]
  },
  {
   "cell_type": "code",
   "execution_count": null,
   "id": "2fa1e394",
   "metadata": {},
   "outputs": [],
   "source": [
    "# Coefficients\n",
    "print('Coefficients:', regr.coef_)"
   ]
  },
  {
   "cell_type": "code",
   "execution_count": null,
   "id": "24496d5a",
   "metadata": {},
   "outputs": [],
   "source": [
    "# The mean squared error\n",
    "mse = mean_squared_error(Y_test, Y_pred)\n",
    "print('Coefficient Mean squared error:', mse)"
   ]
  },
  {
   "cell_type": "code",
   "execution_count": null,
   "id": "a7e1ac2c",
   "metadata": {},
   "outputs": [],
   "source": [
    "# Rsquared\n",
    "r2 = r2_score(Y_test, Y_pred)\n",
    "print('Coefficient R-Squared:', r2)"
   ]
  },
  {
   "cell_type": "code",
   "execution_count": null,
   "id": "76a1e2f3",
   "metadata": {},
   "outputs": [],
   "source": [
    "#Random Forest\n",
    "\n",
    "X_train, X_test = X[:-90], X[-90:]\n",
    "Y_train, Y_test = Y[:-90], Y[-90:]\n",
    "\n",
    "model = RandomForestRegressor(n_estimators=100, max_depth=3, bootstrap=True)\n",
    "model.fit(X_train, Y_train)\n",
    "\n",
    "Y_pred = model.predict(X_test)\n",
    "\n",
    "# The mean squared error\n",
    "mse = mean_squared_error(Y_test, Y_pred)\n",
    "print('Random Forest Mean squared error:', mse)\n",
    "\n",
    "# R Squared\n",
    "r2 = r2_score(Y_test, Y_pred)\n",
    "print('Random Forest R-Squared:', r2)\n",
    "#Note- adjusting max_depth did not significantly improve model"
   ]
  },
  {
   "cell_type": "code",
   "execution_count": null,
   "id": "dde29186",
   "metadata": {},
   "outputs": [],
   "source": [
    "# Create and train the Decision Tree Classifier\n",
    "decision_tree_model = DecisionTreeClassifier(random_state=0)\n",
    "decision_tree_model.fit(X_train, Y_train)\n",
    "\n",
    "# Predict using the Decision Tree Classifier\n",
    "Y_pred = decision_tree_model.predict(X_test)\n",
    "\n",
    "# Calculate the accuracy score\n",
    "accuracy = accuracy_score(Y_test, Y_pred)\n",
    "print('Accuracy:', accuracy)\n",
    "\n",
    "# Generate the confusion matrix\n",
    "conf_matrix = confusion_matrix(Y_test, Y_pred)\n",
    "print('Confusion Matrix:')\n",
    "print(conf_matrix)\n",
    "\n",
    "# Classification report\n",
    "print('Classification Report:')\n",
    "class_report = classification_report(Y_test, Y_pred, zero_division=1)\n",
    "print(class_report)"
   ]
  },
  {
   "cell_type": "code",
   "execution_count": null,
   "id": "4454ae25",
   "metadata": {},
   "outputs": [],
   "source": [
    "#K Nearest Neighbors\n",
    "knn = KNeighborsClassifier()"
   ]
  },
  {
   "cell_type": "code",
   "execution_count": null,
   "id": "a0f60395",
   "metadata": {},
   "outputs": [],
   "source": [
    "knn.fit(X_train,Y_train)"
   ]
  },
  {
   "cell_type": "code",
   "execution_count": null,
   "id": "738b57c0",
   "metadata": {},
   "outputs": [],
   "source": [
    "Y_pred = knn.predict(X_test)"
   ]
  },
  {
   "cell_type": "code",
   "execution_count": null,
   "id": "110a96bb",
   "metadata": {},
   "outputs": [],
   "source": [
    "#Test the Model\n",
    "df_knn = pd.DataFrame({'Y_test': Y_test , 'Y_pred': Y_pred}) \n",
    "df_knn"
   ]
  },
  {
   "cell_type": "code",
   "execution_count": null,
   "id": "2151a4ca",
   "metadata": {},
   "outputs": [],
   "source": [
    "#Calculate the Accuracy\n",
    "accuracy_score(Y_pred,Y_test)"
   ]
  },
  {
   "cell_type": "code",
   "execution_count": null,
   "id": "3021d4ab",
   "metadata": {},
   "outputs": [],
   "source": [
    "# We create dummy variables to include our non-numeric data in the model and improve accuracy\n",
    "# Creating dummy variables for 'required_experience', 'location', description, function, employment type.\n",
    "# Dummy Variables are chosen using graphs above, other variables added with minimal missing values to increase model accuracy\n",
    "dum_required_experience = pd.get_dummies(df_job['required_experience'], prefix='req_exp')\n",
    "dum_location = pd.get_dummies(df_job['location'])\n",
    "dum_description = pd.get_dummies(df_job['description'])\n",
    "dum_function = pd.get_dummies(df_job['function'])\n",
    "dum_employment = pd.get_dummies(df_job['employment_type'])\n",
    "\n",
    "#Note: during trials, almost all combinations of dummy variables and numeric data overfit data for all models. \n",
    "#Only the combination of binary variables and the dummy variables for location and experience improved model without overfitting for regression,other models did show evidence of overfitting.\n",
    "\n",
    "# Combine the dummy variables with df_job\n",
    "df_job = pd.concat([df_job, dum_required_experience, dum_location], axis=1)"
   ]
  },
  {
   "cell_type": "code",
   "execution_count": null,
   "id": "18225d2e",
   "metadata": {},
   "outputs": [],
   "source": [
    "#Drop remaining non numeric columns\n",
    "df_job=df_job.drop(['description','function','industry','required_education','required_experience','benefits','requirements','employment_type','company_profile','salary_range','location','title','job_id'], axis=1)\n",
    "\n"
   ]
  },
  {
   "cell_type": "code",
   "execution_count": null,
   "id": "9c49e3e7",
   "metadata": {},
   "outputs": [],
   "source": [
    "# Import test and train datasets\n",
    "df_train = df_job\n",
    "df_test = df_job"
   ]
  },
  {
   "cell_type": "code",
   "execution_count": null,
   "id": "3dde278e",
   "metadata": {},
   "outputs": [],
   "source": [
    "Y = df_job.fake_posting\n",
    "df_job.drop('fake_posting',axis=1)"
   ]
  },
  {
   "cell_type": "code",
   "execution_count": null,
   "id": "82e59977",
   "metadata": {},
   "outputs": [],
   "source": [
    "\n",
    "X = df_train\n",
    "\n",
    "X_train, X_test, Y_train, Y_test = train_test_split(X, Y, test_size=0.1, random_state=0)"
   ]
  },
  {
   "cell_type": "code",
   "execution_count": null,
   "id": "e10a773a",
   "metadata": {},
   "outputs": [],
   "source": [
    "# Create linear regression object\n",
    "regr = linear_model.LinearRegression()"
   ]
  },
  {
   "cell_type": "code",
   "execution_count": null,
   "id": "96f30609",
   "metadata": {},
   "outputs": [],
   "source": [
    "# Train the model using the training sets\n",
    "regr.fit(X_train, Y_train)"
   ]
  },
  {
   "cell_type": "code",
   "execution_count": null,
   "id": "9e4fa1b0",
   "metadata": {},
   "outputs": [],
   "source": [
    "#Predicting using Testing Set\n",
    "Y_pred = regr.predict(X_test)"
   ]
  },
  {
   "cell_type": "code",
   "execution_count": null,
   "id": "ad74e3b8",
   "metadata": {},
   "outputs": [],
   "source": [
    "# Coefficients\n",
    "print('Coefficients:', regr.coef_)"
   ]
  },
  {
   "cell_type": "code",
   "execution_count": null,
   "id": "7fa49ae1",
   "metadata": {},
   "outputs": [],
   "source": [
    "# The mean squared error\n",
    "mse = mean_squared_error(Y_test, Y_pred)\n",
    "print('Coefficient Mean squared error:', mse)"
   ]
  },
  {
   "cell_type": "code",
   "execution_count": null,
   "id": "cfbcb8d5",
   "metadata": {},
   "outputs": [],
   "source": [
    "# Rsquared\n",
    "r2 = r2_score(Y_test, Y_pred)\n",
    "print('Coefficient R-Squared:', r2)"
   ]
  },
  {
   "cell_type": "code",
   "execution_count": null,
   "id": "a009a7d2",
   "metadata": {},
   "outputs": [],
   "source": []
  },
  {
   "cell_type": "code",
   "execution_count": null,
   "id": "afbd8744",
   "metadata": {},
   "outputs": [],
   "source": [
    "#Random Forest\n",
    "\n",
    "X_train, X_test = X[:-90], X[-90:]\n",
    "Y_train, Y_test = Y[:-90], Y[-90:]\n",
    "\n",
    "model = RandomForestRegressor(n_estimators=100, max_depth=3, bootstrap=True)\n",
    "model.fit(X_train, Y_train)\n",
    "\n",
    "Y_pred = model.predict(X_test)\n",
    "\n",
    "# The mean squared error\n",
    "mse = mean_squared_error(Y_test, Y_pred)\n",
    "print('Random Forest Mean squared error:', mse)\n",
    "\n",
    "# R Squared\n",
    "r2 = r2_score(Y_test, Y_pred)\n",
    "print('Random Forest R-Squared:', r2)\n",
    "\n"
   ]
  },
  {
   "cell_type": "code",
   "execution_count": null,
   "id": "6c07cc68",
   "metadata": {},
   "outputs": [],
   "source": [
    "# Create and train the Decision Tree Classifier\n",
    "decision_tree_model = DecisionTreeClassifier(random_state=1)\n",
    "decision_tree_model.fit(X_train, Y_train)\n",
    "\n",
    "# Predict using the Decision Tree Classifier\n",
    "Y_pred = decision_tree_model.predict(X_test)\n",
    "\n",
    "# Calculate the accuracy score\n",
    "accuracy = accuracy_score(Y_test, Y_pred)\n",
    "print('Accuracy:', accuracy)\n",
    "\n",
    "# Generate the confusion matrix\n",
    "conf_matrix = confusion_matrix(Y_test, Y_pred)\n",
    "print('Confusion Matrix:')\n",
    "print(conf_matrix)\n",
    "\n",
    "# Classification report\n",
    "print('Classification Report:')\n",
    "class_report = classification_report(Y_test, Y_pred, zero_division=1)\n",
    "print(class_report)"
   ]
  },
  {
   "cell_type": "code",
   "execution_count": null,
   "id": "35f4d338",
   "metadata": {},
   "outputs": [],
   "source": [
    "#K Nearest Neighbors\n",
    "knn = KNeighborsClassifier()"
   ]
  },
  {
   "cell_type": "code",
   "execution_count": null,
   "id": "0a8fc7c9",
   "metadata": {},
   "outputs": [],
   "source": [
    "knn.fit(X_train,Y_train)"
   ]
  },
  {
   "cell_type": "code",
   "execution_count": null,
   "id": "f270a981",
   "metadata": {},
   "outputs": [],
   "source": [
    "Y_pred = knn.predict(X_test)"
   ]
  },
  {
   "cell_type": "code",
   "execution_count": null,
   "id": "3db3c2e8",
   "metadata": {},
   "outputs": [],
   "source": [
    "#Test the Model\n",
    "df_knn = pd.DataFrame({'Y_test': Y_test , 'Y_pred': Y_pred}) \n",
    "df_knn"
   ]
  },
  {
   "cell_type": "code",
   "execution_count": null,
   "id": "13e3af17",
   "metadata": {},
   "outputs": [],
   "source": [
    "#Calculate the Accuracy\n",
    "accuracy_score(Y_pred,Y_test)"
   ]
  },
  {
   "cell_type": "code",
   "execution_count": null,
   "id": "cbf9b0a0",
   "metadata": {},
   "outputs": [],
   "source": []
  }
 ],
 "metadata": {
  "kernelspec": {
   "display_name": "Python 3 (ipykernel)",
   "language": "python",
   "name": "python3"
  },
  "language_info": {
   "codemirror_mode": {
    "name": "ipython",
    "version": 3
   },
   "file_extension": ".py",
   "mimetype": "text/x-python",
   "name": "python",
   "nbconvert_exporter": "python",
   "pygments_lexer": "ipython3",
   "version": "3.10.9"
  }
 },
 "nbformat": 4,
 "nbformat_minor": 5
}
